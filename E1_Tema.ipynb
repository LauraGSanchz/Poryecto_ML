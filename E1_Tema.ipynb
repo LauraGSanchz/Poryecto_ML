{
  "metadata": {
    "kernelspec": {
      "name": "python",
      "display_name": "Python (Pyodide)",
      "language": "python"
    },
    "language_info": {
      "codemirror_mode": {
        "name": "python",
        "version": 3
      },
      "file_extension": ".py",
      "mimetype": "text/x-python",
      "name": "python",
      "nbconvert_exporter": "python",
      "pygments_lexer": "ipython3",
      "version": "3.8"
    },
    "interpreter": {
      "hash": "7c77fdb427e7cbc9bc1367dd530fc2b36aacdbbde1ac83c85833b10dfa8b831c"
    }
  },
  "nbformat_minor": 4,
  "nbformat": 4,
  "cells": [
    {
      "cell_type": "markdown",
      "source": "# Primera entrega ML",
      "metadata": {}
    },
    {
      "cell_type": "markdown",
      "source": "### Título de proyecto",
      "metadata": {}
    },
    {
      "cell_type": "code",
      "source": "# Escribir el título de proyecto en Markdown\ntitulo = \"Predictor de generación fotovoltaica y de precios del mercado minorista de la electricidad\"",
      "metadata": {},
      "outputs": [],
      "execution_count": null
    },
    {
      "cell_type": "markdown",
      "source": "### Tema",
      "metadata": {}
    },
    {
      "cell_type": "code",
      "source": "tema = \"Predictor de generación fotovoltaica y de precios del mercado minorista de la electricidad\" ",
      "metadata": {},
      "outputs": [],
      "execution_count": null
    },
    {
      "cell_type": "markdown",
      "source": "Establecer, a través de las fuentes de generación fotovoltaica, estrategias de predicción que tomen en cuenta variables meteorológicas como la velocidad y dirección del viento, la temperatura, la humedad y la nubosidad, entre otros. \n\nEl análisis profundiza en cómo, mediante el análisis de predicciones de irradiancia y la interpretación de datos climáticos, es posible optimizar la generación de energía fotovoltaica en las instalaciones de la Universidad de Alcalá.\n\nTras evaluar los distintos factores, se estableció que las variables a emplear para el modelo de predicción incluirían: la energía generada a través de la fotovoltaica, el indicador booleano que diferencia entre días festivos y laborables, la hora del día y el mes (por razones semejantes a las explicadas en el apartado de predicción de la irradiancia), la energía generada mediante tecnología eólica, el precio del gas y finalmente, el histórico de precios de la electricidad.",
      "metadata": {}
    },
    {
      "cell_type": "markdown",
      "source": "### Datasets y fuentes alternativas de datos\nIncluye aquí una breve descripción del dataset o datasets para tu proyecto. Incluye también las fuentes de cada uno de ellos.",
      "metadata": {}
    },
    {
      "cell_type": "code",
      "source": "tipo_ml = \"Regresión\" \ntarget_descr = \"Precio de la electricidad\" \nmetricas = [] # Metricas escogidas para evaluar los modelos",
      "metadata": {},
      "outputs": [],
      "execution_count": null
    },
    {
      "cell_type": "code",
      "source": "# dasets y enlaces de datasets en Markdown\nenlaces = [] # [\"www.paginacondatos.com\", \"www.paginawebscrapeada.com\", \"www.unaapi.com\"]",
      "metadata": {},
      "outputs": [],
      "execution_count": null
    },
    {
      "cell_type": "code",
      "source": "# load dataset\n# df_1.head()",
      "metadata": {},
      "outputs": [],
      "execution_count": null
    },
    {
      "cell_type": "code",
      "source": "# load dataset\n# df_2.head()",
      "metadata": {},
      "outputs": [],
      "execution_count": null
    },
    {
      "cell_type": "code",
      "source": "",
      "metadata": {},
      "outputs": [],
      "execution_count": null
    },
    {
      "cell_type": "code",
      "source": "",
      "metadata": {
        "trusted": true
      },
      "outputs": [],
      "execution_count": null
    }
  ]
}